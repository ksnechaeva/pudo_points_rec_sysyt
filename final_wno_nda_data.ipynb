{
 "cells": [
  {
   "cell_type": "code",
   "execution_count": 10,
   "id": "b360ac48-8b67-4223-a580-db636209e704",
   "metadata": {},
   "outputs": [],
   "source": [
    "import matplotlib.pyplot as plt\n",
    "import pandas as pd\n",
    "import odps \n",
    "from odps.inter import setup\n",
    "from odps.inter import enter, teardown\n",
    "from odps import options\n",
    "import odps \n",
    "\n",
    "\n",
    "o = odps.ODPS('secret information')"
   ]
  },
  {
   "cell_type": "code",
   "execution_count": 11,
   "id": "94b92b35-c949-403e-9847-118a77e023e4",
   "metadata": {},
   "outputs": [],
   "source": [
    "import geopandas as gpd \n",
    "import h3pandas\n",
    "from pyproj import CRS\n",
    "import folium\n",
    "from tqdm import tqdm \n",
    "wgs84 = CRS('EPSG:4326')"
   ]
  },
  {
   "cell_type": "code",
   "execution_count": 12,
   "id": "7c6c04f8-cb2d-465d-a37b-e8b5dc1acfaf",
   "metadata": {},
   "outputs": [],
   "source": [
    "df_pudo = o.get_table('table name').to_df().to_pandas()"
   ]
  },
  {
   "cell_type": "code",
   "execution_count": 13,
   "id": "49630f6a-b009-49a7-8c7b-6d6e8f9b34c3",
   "metadata": {},
   "outputs": [],
   "source": [
    "df_dist = o.get_table('table name').to_df().to_pandas()"
   ]
  },
  {
   "cell_type": "code",
   "execution_count": 14,
   "id": "04df259b-ef37-49e4-929c-fc4b5da8ff90",
   "metadata": {},
   "outputs": [],
   "source": [
    "df_addr = o.get_table('table name').to_df().to_pandas()"
   ]
  },
  {
   "cell_type": "code",
   "execution_count": null,
   "id": "9e737d40-0c31-458c-8eb0-6ef76aaa9971",
   "metadata": {},
   "outputs": [],
   "source": [
    "df_pudo.head()"
   ]
  },
  {
   "cell_type": "code",
   "execution_count": null,
   "id": "0b9734cf-4443-4d84-bebc-974e5f55e001",
   "metadata": {},
   "outputs": [],
   "source": [
    "df_dist.head()"
   ]
  },
  {
   "cell_type": "code",
   "execution_count": null,
   "id": "90402366-b942-4c03-8d4f-815208b841e8",
   "metadata": {},
   "outputs": [],
   "source": [
    "df_addr.head()"
   ]
  },
  {
   "cell_type": "markdown",
   "id": "d527602a-c742-45c0-88b1-d2b9736e66d4",
   "metadata": {
    "tags": []
   },
   "source": [
    "# __Creating Hexagones__"
   ]
  },
  {
   "cell_type": "markdown",
   "id": "87e9984d-c883-4584-a577-135c64165f6b",
   "metadata": {
    "tags": []
   },
   "source": [
    "## hexagones from pudo and orders"
   ]
  },
  {
   "cell_type": "code",
   "execution_count": 18,
   "id": "d017bc3c-5756-4667-8c6c-7447da88068a",
   "metadata": {},
   "outputs": [],
   "source": [
    "df1 = df_pudo.rename(columns={'lon': 'lng'})"
   ]
  },
  {
   "cell_type": "code",
   "execution_count": 19,
   "id": "35d0ab7c-c8b3-4e23-b879-46237c982973",
   "metadata": {},
   "outputs": [],
   "source": [
    "df1 = df1[lambda x: x.region_name_ru == 'Республика Татарстан']"
   ]
  },
  {
   "cell_type": "code",
   "execution_count": 20,
   "id": "0d0b4c9c-0cf9-4809-bbca-631df3497d39",
   "metadata": {},
   "outputs": [],
   "source": [
    "df1 = df1[lambda x: x.pay_month >= '2023-02-28 16:00:00']"
   ]
  },
  {
   "cell_type": "code",
   "execution_count": 21,
   "id": "b2e77bd9-fc3c-41ab-81a6-2bb7fbd3b5ea",
   "metadata": {},
   "outputs": [
    {
     "data": {
      "text/plain": [
       "1040480"
      ]
     },
     "execution_count": 21,
     "metadata": {},
     "output_type": "execute_result"
    }
   ],
   "source": [
    "df1['orders'].sum()"
   ]
  },
  {
   "cell_type": "code",
   "execution_count": 22,
   "id": "d5c0563b-9f8f-49e3-8a25-065236232ab2",
   "metadata": {},
   "outputs": [],
   "source": [
    "df1 = df1.drop(['pay_month'], axis = 1)"
   ]
  },
  {
   "cell_type": "code",
   "execution_count": 23,
   "id": "f6880153-f158-4f6a-a1aa-6f0806460ea8",
   "metadata": {},
   "outputs": [],
   "source": [
    "df1 = df1.loc[lambda df1: (df1.lat != '') & (df1.lng != '') &\n",
    "                               (~df1.lat.isna()) & (~df1.lng.isna())]"
   ]
  },
  {
   "cell_type": "code",
   "execution_count": 24,
   "id": "1221c2cb-8883-4de1-917a-716de0237c31",
   "metadata": {},
   "outputs": [],
   "source": [
    "dfh3 = df1.h3.geo_to_h3(8)"
   ]
  },
  {
   "cell_type": "code",
   "execution_count": 25,
   "id": "7e0606ce-5261-40b3-a95a-4a32b899f01e",
   "metadata": {},
   "outputs": [],
   "source": [
    "dfh3.reset_index(inplace = True)"
   ]
  },
  {
   "cell_type": "code",
   "execution_count": 26,
   "id": "ff65160f-f7f6-4337-800e-959ea4688856",
   "metadata": {},
   "outputs": [],
   "source": [
    "dfh3_grouped = dfh3.groupby(['h3_08'], as_index=False).agg({'pickup_station_id' : 'count'})"
   ]
  },
  {
   "cell_type": "code",
   "execution_count": null,
   "id": "a2885b66-df09-4a97-90a7-f97907051790",
   "metadata": {},
   "outputs": [],
   "source": [
    "dfh3_grouped"
   ]
  },
  {
   "cell_type": "markdown",
   "id": "1bda366a-a708-4a65-bc8a-54e8c0013b33",
   "metadata": {},
   "source": [
    "## hexagones with population"
   ]
  },
  {
   "cell_type": "code",
   "execution_count": 28,
   "id": "84b225cd-a6f2-4235-b2a6-3a5f7925d7b8",
   "metadata": {},
   "outputs": [],
   "source": [
    "df3 = df_addr.rename(columns={'longitude': 'lng', 'latitude' : 'lat'})"
   ]
  },
  {
   "cell_type": "code",
   "execution_count": 29,
   "id": "9ba4812a-dc53-4b84-96dc-2825182ba0fd",
   "metadata": {},
   "outputs": [],
   "source": [
    "df3 = df3.loc[lambda df3: (df3.lat != '') & (df3.lng != '') &\n",
    "                               (~df3.lat.isna()) & (~df3.lng.isna())]"
   ]
  },
  {
   "cell_type": "code",
   "execution_count": 30,
   "id": "8918128b-0d81-4b2e-b1d9-03e558a178bf",
   "metadata": {},
   "outputs": [],
   "source": [
    "dfh3_3 = df3.h3.geo_to_h3(8)"
   ]
  },
  {
   "cell_type": "code",
   "execution_count": 31,
   "id": "1a437671-0860-4ca7-bea1-f000a06f4938",
   "metadata": {},
   "outputs": [],
   "source": [
    "dfh3_3.reset_index(inplace = True)"
   ]
  },
  {
   "cell_type": "code",
   "execution_count": 32,
   "id": "03ab9044-54b6-41d7-9f13-3d519f35c5b3",
   "metadata": {},
   "outputs": [],
   "source": [
    "dfh3_3_grouped = dfh3_3.groupby(['h3_08'], as_index=False).agg({'id' : 'count'})"
   ]
  },
  {
   "cell_type": "code",
   "execution_count": null,
   "id": "5624131d-30a0-4733-b60d-f0b5458ccdc3",
   "metadata": {},
   "outputs": [],
   "source": [
    "dfh3_3_grouped"
   ]
  },
  {
   "cell_type": "markdown",
   "id": "dddd6047-2d1e-4e23-9756-970ffcacd2f4",
   "metadata": {},
   "source": [
    "## dataset for addresses and orders"
   ]
  },
  {
   "cell_type": "code",
   "execution_count": 34,
   "id": "8a408c1f-787d-4285-b675-cb3541dd6b6d",
   "metadata": {},
   "outputs": [],
   "source": [
    "df2 = df_dist.drop(['lat', 'lon'], axis = 1)"
   ]
  },
  {
   "cell_type": "code",
   "execution_count": 35,
   "id": "3a7d7dea-f021-4860-94b7-56e9e2498267",
   "metadata": {},
   "outputs": [],
   "source": [
    "df2 = df2.rename(columns={'longitude': 'lng', 'latitude' : 'lat', 'rnk' : 'orders'})"
   ]
  },
  {
   "cell_type": "code",
   "execution_count": 36,
   "id": "b390ea7c-9788-4202-8823-aa95982cfb2f",
   "metadata": {},
   "outputs": [],
   "source": [
    "df2 = df2[lambda x: x.region_name_ru == 'Республика Татарстан']"
   ]
  },
  {
   "cell_type": "code",
   "execution_count": 37,
   "id": "dd86c131-92ba-4814-a8fe-2e93b4e50d14",
   "metadata": {},
   "outputs": [],
   "source": [
    "df2['pay_month'] = pd.to_datetime(df2['pay_monthh'])"
   ]
  },
  {
   "cell_type": "code",
   "execution_count": 38,
   "id": "b6ba217b-03ac-444d-b62d-4782e3ba50aa",
   "metadata": {},
   "outputs": [],
   "source": [
    "df2= df2[lambda x: x.pay_month >= '2023-03-01']"
   ]
  },
  {
   "cell_type": "code",
   "execution_count": 39,
   "id": "847d3cd6-ca14-4469-bb34-157790caf591",
   "metadata": {},
   "outputs": [],
   "source": [
    "df2 = df2.drop(['pay_month', 'pay_monthh', 'shipping_model' ], axis = 1)"
   ]
  },
  {
   "cell_type": "code",
   "execution_count": 40,
   "id": "d972da2f-4eb4-4163-a1b3-860f19f7d106",
   "metadata": {},
   "outputs": [],
   "source": [
    "df2 = df2.loc[lambda df1: (df2.lat != '') & (df2.lng != '') &\n",
    "                               (~df2.lat.isna()) & (~df2.lng.isna())]"
   ]
  },
  {
   "cell_type": "code",
   "execution_count": null,
   "id": "00553c3b-5a67-4dda-b8d3-9fa4d4094e9a",
   "metadata": {},
   "outputs": [],
   "source": [
    "df2.head()"
   ]
  },
  {
   "cell_type": "markdown",
   "id": "de6d12e1-7742-40d1-bf52-5d9d28364f09",
   "metadata": {
    "tags": []
   },
   "source": [
    "## selection of the optimal distance "
   ]
  },
  {
   "cell_type": "code",
   "execution_count": 42,
   "id": "f7b77094-298c-4fdc-9ea2-722f7f3f1efb",
   "metadata": {},
   "outputs": [
    {
     "name": "stdout",
     "output_type": "stream",
     "text": [
      "Mean: 83736.90, Standard Deviation: 514172.81\n",
      "Lower Bound: -1458781.51, Upper Bound: 1626255.32\n",
      "Number of Outliers: 853\n"
     ]
    }
   ],
   "source": [
    "#3 sigma selection if df2 is original\n",
    "import numpy as np\n",
    "\n",
    "\n",
    "# generate some sample data\n",
    "data = df2['dist']\n",
    "\n",
    "# calculate the mean and standard deviation of the data\n",
    "mean = np.mean(data)\n",
    "std = np.std(data)\n",
    "\n",
    "# identify the outliers using a 3-sigma selection\n",
    "lower_bound = mean - 3*std\n",
    "upper_bound = mean + 3*std\n",
    "outliers = [x for x in data if x < lower_bound or x > upper_bound]\n",
    "\n",
    "print(f\"Mean: {mean:.2f}, Standard Deviation: {std:.2f}\")\n",
    "print(f\"Lower Bound: {lower_bound:.2f}, Upper Bound: {upper_bound:.2f}\")\n",
    "print(f\"Number of Outliers: {len(outliers)}\")\n"
   ]
  },
  {
   "cell_type": "code",
   "execution_count": null,
   "id": "c6cf822f-6bbd-4557-ae21-c6c7cd4b7924",
   "metadata": {},
   "outputs": [],
   "source": [
    "import seaborn as sns\n",
    "# Create density plot\n",
    "sns.kdeplot(data=df2, x=\"dist\", )\n",
    "\n",
    "\n",
    "plt.xlabel(\"distance\")\n",
    "plt.ylabel(\"Density\")\n",
    "plt.title(\"Distribution of distance to pudo points\")\n",
    "\n",
    "# Show plot\n",
    "plt.show()"
   ]
  },
  {
   "cell_type": "code",
   "execution_count": 44,
   "id": "3865dec3-ccc1-4dea-a04e-61b921b661ff",
   "metadata": {},
   "outputs": [],
   "source": [
    "df2 = df2[lambda x : x.dist <= 25000]"
   ]
  },
  {
   "cell_type": "code",
   "execution_count": 45,
   "id": "2d99ce9e-7807-4cb3-9dc2-6f79e90337bb",
   "metadata": {},
   "outputs": [
    {
     "name": "stdout",
     "output_type": "stream",
     "text": [
      "Mean: 1807.47, Standard Deviation: 3262.65\n",
      "Lower Bound: -7980.48, Upper Bound: 11595.42\n",
      "Number of Outliers: 1521\n"
     ]
    }
   ],
   "source": [
    "#3 sigma selection if df2 is  <= 25000\n",
    "\n",
    "\n",
    "\n",
    "# generate some sample data\n",
    "data = df2['dist']\n",
    "\n",
    "# calculate the mean and standard deviation of the data\n",
    "mean = np.mean(data)\n",
    "std = np.std(data)\n",
    "\n",
    "# identify the outliers using a 3-sigma selection\n",
    "lower_bound = mean - 3*std\n",
    "upper_bound = mean + 3*std\n",
    "outliers = [x for x in data if x < lower_bound or x > upper_bound]\n",
    "\n",
    "print(f\"Mean: {mean:.2f}, Standard Deviation: {std:.2f}\")\n",
    "print(f\"Lower Bound: {lower_bound:.2f}, Upper Bound: {upper_bound:.2f}\")\n",
    "print(f\"Number of Outliers: {len(outliers)}\")\n"
   ]
  },
  {
   "cell_type": "code",
   "execution_count": null,
   "id": "34539b2e-cfdb-44ba-b104-9cf0580de4a3",
   "metadata": {},
   "outputs": [],
   "source": [
    "\n",
    "# Create density plot\n",
    "sns.kdeplot(data=df2, x=\"dist\", )\n",
    "\n",
    "\n",
    "plt.xlabel(\"distance\")\n",
    "plt.ylabel(\"Density\")\n",
    "plt.title(\"Distribution of distance to pudo points\")\n",
    "\n",
    "# Show plot\n",
    "plt.show()"
   ]
  },
  {
   "cell_type": "code",
   "execution_count": 47,
   "id": "6cc89742-8def-48b6-8b76-5c94fc83fde2",
   "metadata": {},
   "outputs": [],
   "source": [
    "df2 = df2[lambda x : x.dist <= 10000]"
   ]
  },
  {
   "cell_type": "code",
   "execution_count": 48,
   "id": "ebdf1e1c-81fd-4688-8d5c-de99eb30397b",
   "metadata": {},
   "outputs": [
    {
     "name": "stdout",
     "output_type": "stream",
     "text": [
      "Mean: 1265.95, Standard Deviation: 1696.05\n",
      "Lower Bound: -3822.19, Upper Bound: 6354.10\n",
      "Number of Outliers: 1626\n"
     ]
    }
   ],
   "source": [
    "#3 sigma selection if df2 is  <= 10000\n",
    "\n",
    "\n",
    "\n",
    "# generate some sample data\n",
    "data = df2['dist']\n",
    "\n",
    "# calculate the mean and standard deviation of the data\n",
    "mean = np.mean(data)\n",
    "std = np.std(data)\n",
    "\n",
    "# identify the outliers using a 3-sigma selection\n",
    "lower_bound = mean - 3*std\n",
    "upper_bound = mean + 3*std\n",
    "outliers = [x for x in data if x < lower_bound or x > upper_bound]\n",
    "\n",
    "print(f\"Mean: {mean:.2f}, Standard Deviation: {std:.2f}\")\n",
    "print(f\"Lower Bound: {lower_bound:.2f}, Upper Bound: {upper_bound:.2f}\")\n",
    "print(f\"Number of Outliers: {len(outliers)}\")\n"
   ]
  },
  {
   "cell_type": "code",
   "execution_count": null,
   "id": "df919a62-1cdd-4e63-a796-d7c8724f3f93",
   "metadata": {},
   "outputs": [],
   "source": [
    "\n",
    "# Create density plot\n",
    "sns.kdeplot(data=df2, x=\"dist\", )\n",
    "\n",
    "\n",
    "plt.xlabel(\"distance\")\n",
    "plt.ylabel(\"Density\")\n",
    "plt.title(\"Distribution of distance to pudo points\")\n",
    "\n",
    "# Show plot\n",
    "plt.show()"
   ]
  },
  {
   "cell_type": "code",
   "execution_count": 50,
   "id": "d0fb3685-1ee2-4c2b-a87a-7605bd817dd8",
   "metadata": {},
   "outputs": [],
   "source": [
    "df2 = df2[lambda x : x.dist <= 1000]"
   ]
  },
  {
   "cell_type": "code",
   "execution_count": 51,
   "id": "6a05f12b-64b3-46c7-bf31-058db708e80f",
   "metadata": {},
   "outputs": [
    {
     "name": "stdout",
     "output_type": "stream",
     "text": [
      "Mean: 454.53, Standard Deviation: 263.26\n",
      "Lower Bound: -335.26, Upper Bound: 1244.31\n",
      "Number of Outliers: 0\n"
     ]
    }
   ],
   "source": [
    "#3 sigma selection if df2 is  <= 10000\n",
    "\n",
    "\n",
    "\n",
    "# generate some sample data\n",
    "data = df2['dist']\n",
    "\n",
    "# calculate the mean and standard deviation of the data\n",
    "mean = np.mean(data)\n",
    "std = np.std(data)\n",
    "\n",
    "# identify the outliers using a 3-sigma selection\n",
    "lower_bound = mean - 3*std\n",
    "upper_bound = mean + 3*std\n",
    "outliers = [x for x in data if x < lower_bound or x > upper_bound]\n",
    "\n",
    "print(f\"Mean: {mean:.2f}, Standard Deviation: {std:.2f}\")\n",
    "print(f\"Lower Bound: {lower_bound:.2f}, Upper Bound: {upper_bound:.2f}\")\n",
    "print(f\"Number of Outliers: {len(outliers)}\")\n"
   ]
  },
  {
   "cell_type": "code",
   "execution_count": 52,
   "id": "c1cd9e34-84d2-421c-99e2-df54d1e71bf8",
   "metadata": {},
   "outputs": [
    {
     "data": {
      "image/png": "[encoded data removed]",
      "text/plain": [
       "<Figure size 432x288 with 1 Axes>"
      ]
     },
     "metadata": {
      "needs_background": "light"
     },
     "output_type": "display_data"
    }
   ],
   "source": [
    "# Create density plot\n",
    "sns.kdeplot(data=df2, x=\"dist\", )\n",
    "\n",
    "\n",
    "plt.xlabel(\"distance\")\n",
    "plt.ylabel(\"Density\")\n",
    "plt.title(\"Distribution of distance to pudo points\")\n",
    "\n",
    "# Show plot\n",
    "plt.show()"
   ]
  },
  {
   "cell_type": "markdown",
   "id": "b8ed1e07-cb99-4b28-a5a7-0c58654fddb1",
   "metadata": {
    "tags": []
   },
   "source": [
    "## hexagones of addresses and orders"
   ]
  },
  {
   "cell_type": "code",
   "execution_count": 53,
   "id": "b96f7d32-3d76-4672-828a-e1ac18ed727c",
   "metadata": {},
   "outputs": [],
   "source": [
    "dfh3_2 = df2.h3.geo_to_h3(8)"
   ]
  },
  {
   "cell_type": "code",
   "execution_count": 54,
   "id": "40846dd7-c20e-40b3-89de-b130338ef6b7",
   "metadata": {},
   "outputs": [],
   "source": [
    "dfh3_2.reset_index(inplace = True)"
   ]
  },
  {
   "cell_type": "code",
   "execution_count": 55,
   "id": "06bea40f-8d8c-4a4a-996f-bc00ddbde2b8",
   "metadata": {},
   "outputs": [],
   "source": [
    "dfh3_2 = dfh3_2[lambda x : x.dist <= 1000]"
   ]
  },
  {
   "cell_type": "code",
   "execution_count": 56,
   "id": "28699edb-e808-4fd9-ac47-c586e13a541a",
   "metadata": {},
   "outputs": [],
   "source": [
    "dfh3_2_grouped = dfh3_2.groupby(['h3_08'], as_index=False).agg({'dist' : 'median', 'orders' : 'count'})"
   ]
  },
  {
   "cell_type": "code",
   "execution_count": 57,
   "id": "5e65b1d1-ada8-48aa-ac82-e1c6ac127ce7",
   "metadata": {},
   "outputs": [
    {
     "data": {
      "text/plain": [
       "528.0634013200116"
      ]
     },
     "execution_count": 57,
     "metadata": {},
     "output_type": "execute_result"
    }
   ],
   "source": [
    "dfh3_2_grouped['dist'].mean()"
   ]
  },
  {
   "cell_type": "code",
   "execution_count": null,
   "id": "36d5974d-55c2-4c9e-a510-83ab57695b0c",
   "metadata": {},
   "outputs": [],
   "source": [
    "dfh3_2_grouped.sort_values('dist')"
   ]
  },
  {
   "cell_type": "markdown",
   "id": "3709f37e-f034-4f50-acc5-502cce664144",
   "metadata": {},
   "source": [
    "## join dataframes"
   ]
  },
  {
   "cell_type": "code",
   "execution_count": 59,
   "id": "071047ea-02eb-4403-b62c-65968f06e572",
   "metadata": {},
   "outputs": [],
   "source": [
    "df_test = pd.merge(dfh3_grouped , dfh3_3_grouped, on = 'h3_08', how = 'outer')"
   ]
  },
  {
   "cell_type": "code",
   "execution_count": null,
   "id": "5f65727f-4223-44fc-83e7-f632d6a95157",
   "metadata": {},
   "outputs": [],
   "source": [
    "df_test = df_test.dropna(subset = ['id'] )\n",
    "df_test"
   ]
  },
  {
   "cell_type": "code",
   "execution_count": 61,
   "id": "02296429-97c3-42d2-a358-f7c37f3bb966",
   "metadata": {},
   "outputs": [],
   "source": [
    "df_test['pickup_station_id'] = df_test['pickup_station_id'].fillna(0)"
   ]
  },
  {
   "cell_type": "code",
   "execution_count": null,
   "id": "bed99661-692d-4344-ae6a-87235d7dea24",
   "metadata": {},
   "outputs": [],
   "source": [
    "df_test2 = pd.merge(df_test , dfh3_2_grouped, on = 'h3_08', how = 'outer')\n",
    "df_test2"
   ]
  },
  {
   "cell_type": "code",
   "execution_count": null,
   "id": "63cb4b88-ebec-431e-85a7-5466e4f2a34c",
   "metadata": {},
   "outputs": [],
   "source": [
    "df_test2['pickup_station_id'] = df_test2['pickup_station_id'].fillna(0)\n",
    "df_test2['id'] = df_test2['id'].fillna(0)\n",
    "df_test2"
   ]
  },
  {
   "cell_type": "code",
   "execution_count": null,
   "id": "3c4fbfc8-aab4-4187-86bc-fea197b0535d",
   "metadata": {},
   "outputs": [],
   "source": [
    "df_test2 = df_test2.dropna(subset = ['dist'])\n",
    "df_test2"
   ]
  },
  {
   "cell_type": "code",
   "execution_count": 65,
   "id": "e471d4c4-fb38-4070-b7bc-fc19a30b97d9",
   "metadata": {},
   "outputs": [
    {
     "name": "stderr",
     "output_type": "stream",
     "text": [
      "<ipython-input-65-d90efe1512dc>:1: SettingWithCopyWarning: \n",
      "A value is trying to be set on a copy of a slice from a DataFrame.\n",
      "Try using .loc[row_indexer,col_indexer] = value instead\n",
      "\n",
      "See the caveats in the documentation: https://pandas.pydata.org/pandas-docs/stable/user_guide/indexing.html#returning-a-view-versus-a-copy\n",
      "  df_test2.loc[:, 'm/n'] = df_test2['orders']/df_test2['id']\n"
     ]
    }
   ],
   "source": [
    "df_test2.loc[:, 'm/n'] = df_test2['orders']/df_test2['id']\n",
    "\n",
    "df_test2\n",
    "\n",
    "df_test2_1 = df_test2.replace([np.inf, -np.inf], np.nan)\n",
    "df_test2_1 = df_test2_1.dropna()"
   ]
  },
  {
   "cell_type": "code",
   "execution_count": null,
   "id": "a90c2b7b-ef1b-42b2-9f47-af8cc50e2c08",
   "metadata": {},
   "outputs": [],
   "source": [
    "df_test2_1 = df_test2_1.drop(df_test2_1[df_test2_1['m/n'] == 1].index)\n",
    "df_test2_1"
   ]
  },
  {
   "cell_type": "code",
   "execution_count": 67,
   "id": "c90fc445-0648-4cf8-996d-0aa36e3527c4",
   "metadata": {},
   "outputs": [],
   "source": [
    "df = df_test2_1"
   ]
  },
  {
   "cell_type": "code",
   "execution_count": null,
   "id": "b3147013-ec68-4764-9799-f2b2d74bef03",
   "metadata": {},
   "outputs": [],
   "source": [
    "df['home_addr'] = df['id']\n",
    "df"
   ]
  },
  {
   "cell_type": "markdown",
   "id": "5f26dc65-3fe8-4f81-aa5d-c9cb6a777487",
   "metadata": {},
   "source": [
    "## Create map with hexagones coloring them in dependance on distance"
   ]
  },
  {
   "cell_type": "code",
   "execution_count": null,
   "id": "486d091b-c753-49d9-bb45-5745893ce324",
   "metadata": {},
   "outputs": [],
   "source": [
    "dfh3_dist_grouped = df.groupby(['h3_08', 'dist', 'm/n'], as_index=False).agg({'orders' : 'sum', 'home_addr' : 'sum'})\n",
    "dfh3_dist_grouped.set_index('h3_08', inplace=True)\n",
    "dfh3_dist_boundary = dfh3_dist_grouped.h3.h3_to_geo_boundary()\n",
    "dfh3_dist_boundary.set_crs(wgs84, inplace=True)"
   ]
  },
  {
   "cell_type": "code",
   "execution_count": null,
   "id": "a9f1e276-867e-4a2e-a6f0-c7fccd4d3586",
   "metadata": {},
   "outputs": [],
   "source": [
    "import branca.colormap as cm\n",
    "#colour hexagons in Kazan according to the mean distance, where green - min and red - max\n",
    "linear1 = cm.LinearColormap([\"green\", \"yellow\", \"red\"], vmin=dfh3_dist_boundary['dist'].min(),\n",
    "                           vmax=dfh3_dist_boundary['dist'].max())\n",
    "\n",
    "linear1"
   ]
  },
  {
   "cell_type": "code",
   "execution_count": null,
   "id": "0dfd83ed-e636-4f9a-8322-9723e25f814d",
   "metadata": {},
   "outputs": [],
   "source": [
    "linear = cm.LinearColormap([\"red\", \"yellow\",\"green\"], vmin=dfh3_dist_boundary['orders'].min(),\n",
    "                           vmax=dfh3_dist_boundary['orders'].max())\n",
    "\n",
    "linear"
   ]
  },
  {
   "cell_type": "code",
   "execution_count": null,
   "id": "9a10805b-200f-4307-ac7c-56c080acab59",
   "metadata": {},
   "outputs": [],
   "source": [
    "linear2 = cm.LinearColormap([\"green\", \"yellow\", \"red\"], vmin=dfh3_dist_boundary['home_addr'].min(),\n",
    "                           vmax=dfh3_dist_boundary['home_addr'].max())\n",
    "\n",
    "linear2"
   ]
  },
  {
   "cell_type": "code",
   "execution_count": 108,
   "id": "ce1b98e0-67ba-4e65-b034-23ac0be3703c",
   "metadata": {},
   "outputs": [
    {
     "data": {
      "text/plain": [
       "<folium.features.GeoJson at 0x7f73c1565310>"
      ]
     },
     "execution_count": 108,
     "metadata": {},
     "output_type": "execute_result"
    }
   ],
   "source": [
    "m = folium.Map(zoom_start=10, tiles=\"cartodbpositron\")\n",
    "\n",
    "geo_hex_dist = folium.GeoJson(data=dfh3_dist_boundary,\n",
    "                         name = \"distance\",\n",
    "                       style_function=lambda x: {\"fillColor\": linear1(x[\"properties\"][\"dist\"]),}, \n",
    "                       tooltip = folium.GeoJsonTooltip(fields=['dist', 'orders', 'm/n'], \n",
    "                                               aliases=['dist', 'orders', 'm/n']\n",
    "                                              ), \n",
    "                       highlight_function = lambda x: {\"fillOpacity\": 0.8},\n",
    "                      )\n",
    "\n",
    "geo_hex_orders = folium.GeoJson(data=dfh3_dist_boundary,\n",
    "                         name = \"orders_density\",\n",
    "                       style_function=lambda x: {\"fillColor\": linear(x[\"properties\"][\"orders\"]),}, \n",
    "                       tooltip = folium.GeoJsonTooltip(fields=['orders', 'dist'], \n",
    "                                               aliases=['orders', 'dist']\n",
    "                                              ), \n",
    "                       highlight_function = lambda x: {\"fillOpacity\": 0.8},\n",
    "                      )\n",
    "\n",
    "geo_hex_addr = folium.GeoJson(data=dfh3_dist_boundary,\n",
    "                         name = \"home addresses\",\n",
    "                       style_function=lambda x: {\"fillColor\": linear2(x[\"properties\"][\"home_addr\"]),}, \n",
    "                       tooltip = folium.GeoJsonTooltip(fields=['home_addr', 'orders'], \n",
    "                                               aliases=['home_addr', 'orders']\n",
    "                                              ), \n",
    "                       highlight_function = lambda x: {\"fillOpacity\": 0.8},\n",
    "                      )\n",
    "\n",
    "geo_hex_dist.add_to(m)\n",
    "geo_hex_orders.add_to(m)\n",
    "geo_hex_addr.add_to(m)"
   ]
  },
  {
   "cell_type": "markdown",
   "id": "d0f13485-937a-4b8a-ac80-e7f66465211c",
   "metadata": {
    "tags": []
   },
   "source": [
    "\n",
    "\n",
    "\n",
    "## Create map with pudo-points"
   ]
  },
  {
   "cell_type": "code",
   "execution_count": 109,
   "id": "d5107ebf-a9e1-4171-8c1e-38ec8ddad2d4",
   "metadata": {},
   "outputs": [],
   "source": [
    "df1_pudo = df_pudo.rename(columns={'lon': 'lng'})\n",
    "df1_pudo = df1_pudo[lambda x: x.region_name_ru == 'Республика Татарстан']"
   ]
  },
  {
   "cell_type": "code",
   "execution_count": null,
   "id": "39aa838c-7847-4ac2-bdb0-a0de1e556d34",
   "metadata": {},
   "outputs": [],
   "source": [
    "df1_pudo = df1_pudo.drop(['pay_month'], axis = 1)\n",
    "df1_pudo.head()"
   ]
  },
  {
   "cell_type": "code",
   "execution_count": null,
   "id": "c2ae0b7a-a5b8-4bbf-ba14-9768520c09f4",
   "metadata": {},
   "outputs": [],
   "source": [
    "pointsdf = gpd.GeoDataFrame(df1_pudo, geometry=gpd.points_from_xy(df1_pudo.lng, df1_pudo.lat))\n",
    "pointsdf.set_crs(4326, inplace=True)"
   ]
  },
  {
   "cell_type": "code",
   "execution_count": null,
   "id": "9e733e54-d9cc-494f-a438-df2ad480fc7b",
   "metadata": {},
   "outputs": [],
   "source": [
    "test_pudo = df1_pudo.groupby(['partner_name', 'pickup_station_id']).agg({'orders' : 'sum'}  )\n",
    "test_pudo"
   ]
  },
  {
   "cell_type": "code",
   "execution_count": 113,
   "id": "39f72649-f7c1-47be-b77c-2767e472206c",
   "metadata": {},
   "outputs": [
    {
     "data": {
      "text/plain": [
       "<folium.features.GeoJson at 0x7f73bbdf0040>"
      ]
     },
     "execution_count": 113,
     "metadata": {},
     "output_type": "execute_result"
    }
   ],
   "source": [
    "def my_color_function(x):\n",
    "    \"\"\"Maps partner names to different colors.\"\"\"\n",
    "    partner_name = x['properties']['partner_name']\n",
    "    if partner_name == 'CDEK':\n",
    "        return \"purple\"\n",
    "    if partner_name == 'CAINIAO':\n",
    "        return \"green\"\n",
    "    if partner_name == 'KAZAN_EXPRESS':\n",
    "        return \"lightblue\"\n",
    "    if partner_name == 'IML':\n",
    "        return \"red\"\n",
    "    if partner_name == 'RUPOST':\n",
    "        return \"blue\"\n",
    "    if partner_name == 'SVYAZNOY':\n",
    "        return \"yellow\"\n",
    "    if partner_name == 'X5':\n",
    "        return \"orange\"\n",
    "\n",
    "\n",
    "folium.GeoJson(pointsdf, \n",
    "                name = \"pudo_points\",\n",
    "               marker=folium.CircleMarker(radius=4, fill_color=\"orange\", fill_opacity=0.8, color=\"black\", weight=1),\n",
    "               style_function = lambda x: { \"fillColor\":  my_color_function(x)}, \n",
    "               tooltip = folium.GeoJsonTooltip(fields=['partner_name', 'pickup_station_id', 'orders'], \n",
    "                                               aliases=['partner_name', 'pickup_station_id', 'orders']\n",
    "                                              ),\n",
    "               \n",
    "              ).add_to(m)\n"
   ]
  },
  {
   "cell_type": "code",
   "execution_count": 114,
   "id": "a581398c-fa61-4548-bce0-337996b186ac",
   "metadata": {},
   "outputs": [],
   "source": [
    "folium.LayerControl().add_to(m)\n",
    "m.save('interactive_map.html')"
   ]
  },
  {
   "cell_type": "markdown",
   "id": "4202d6c7-a870-4197-a19f-ae2caf5b5be7",
   "metadata": {
    "tags": []
   },
   "source": [
    "# __LINEAR REGRESSION__"
   ]
  },
  {
   "cell_type": "code",
   "execution_count": 78,
   "id": "600f84d5-5967-4e6c-90dd-2ec88b03fbc4",
   "metadata": {},
   "outputs": [
    {
     "name": "stdout",
     "output_type": "stream",
     "text": [
      "Defaulting to user installation because normal site-packages is not writeable\n",
      "Collecting spicy\n",
      "  Downloading spicy-0.16.0-py2.py3-none-any.whl (1.7 kB)\n",
      "Requirement already satisfied: scipy in /var/data02/jupyter/jupyter_env_master_0.0.15/lib/python3.8/site-packages (from spicy) (1.8.0)\n",
      "Requirement already satisfied: numpy<1.25.0,>=1.17.3 in /var/data02/jupyter/jupyter_env_master_0.0.15/lib/python3.8/site-packages (from scipy->spicy) (1.22.3)\n",
      "Installing collected packages: spicy\n",
      "Successfully installed spicy-0.16.0\n"
     ]
    }
   ],
   "source": [
    "!pip install spicy"
   ]
  },
  {
   "cell_type": "code",
   "execution_count": 79,
   "id": "1836d4c6-a32f-4c94-b265-a3ead47ea181",
   "metadata": {},
   "outputs": [],
   "source": [
    "import spicy\n",
    "from scipy.stats import linregress"
   ]
  },
  {
   "cell_type": "code",
   "execution_count": 80,
   "id": "0bea00bd-44ce-47f7-970e-8f346ded3d23",
   "metadata": {},
   "outputs": [
    {
     "name": "stdout",
     "output_type": "stream",
     "text": [
      "Slope:  -0.025975079156727574\n",
      "Intercept:  25.777750654848838\n",
      "R-squared:  0.11597902990831004\n",
      "p 2.9790448327233805e-27\n",
      "error 0.002327905364672977\n"
     ]
    }
   ],
   "source": [
    "slope, intercept, r_value, p_value, std_err = linregress(df['dist'], df['pickup_station_id'])\n",
    "print(\"Slope: \", slope)\n",
    "print(\"Intercept: \", intercept)\n",
    "print(\"R-squared: \", r_value**2)\n",
    "print(\"p\", p_value)\n",
    "print(\"error\" , std_err)"
   ]
  },
  {
   "cell_type": "code",
   "execution_count": 86,
   "id": "d99dc977-9364-41d0-b702-b3560af77b08",
   "metadata": {},
   "outputs": [
    {
     "name": "stdout",
     "output_type": "stream",
     "text": [
      "Defaulting to user installation because normal site-packages is not writeable\n",
      "Collecting scikit-learn\n",
      "  Downloading scikit_learn-1.2.2-cp38-cp38-manylinux_2_17_x86_64.manylinux2014_x86_64.whl (9.8 MB)\n",
      "\u001b[K     |████████████████████████████████| 9.8 MB 4.2 MB/s eta 0:00:01\n",
      "\u001b[?25hCollecting joblib>=1.1.1\n",
      "  Downloading joblib-1.2.0-py3-none-any.whl (297 kB)\n",
      "\u001b[K     |████████████████████████████████| 297 kB 150.9 MB/s eta 0:00:01\n",
      "\u001b[?25hRequirement already satisfied: scipy>=1.3.2 in /var/data02/jupyter/jupyter_env_master_0.0.15/lib/python3.8/site-packages (from scikit-learn) (1.8.0)\n",
      "Collecting threadpoolctl>=2.0.0\n",
      "  Downloading threadpoolctl-3.1.0-py3-none-any.whl (14 kB)\n",
      "Requirement already satisfied: numpy>=1.17.3 in /var/data02/jupyter/jupyter_env_master_0.0.15/lib/python3.8/site-packages (from scikit-learn) (1.22.3)\n",
      "Installing collected packages: threadpoolctl, joblib, scikit-learn\n",
      "Successfully installed joblib-1.2.0 scikit-learn-1.2.2 threadpoolctl-3.1.0\n"
     ]
    }
   ],
   "source": [
    "!pip install scikit-learn"
   ]
  },
  {
   "cell_type": "code",
   "execution_count": 115,
   "id": "d3129232-8b46-4908-a825-0d63ac481458",
   "metadata": {},
   "outputs": [],
   "source": [
    "import sklearn\n",
    "from sklearn.linear_model import LinearRegression"
   ]
  },
  {
   "cell_type": "code",
   "execution_count": 148,
   "id": "5fdf80e9-4f28-41fe-9e08-fc56b5f2092e",
   "metadata": {},
   "outputs": [
    {
     "name": "stdout",
     "output_type": "stream",
     "text": [
      "R-squared: 0.030158819103462853\n",
      "Mean squared error:  0.0831097111667861\n",
      "Root Mean Squared Error: 0.28828754944809204\n",
      "Coefficients:  [-0.00019603]\n",
      "Intercept:  0.516567720956219\n",
      "Mean absolute error:  0.0\n"
     ]
    }
   ],
   "source": [
    "x = df['dist'].values.reshape(-1, 1)\n",
    "y = df['m/n'].values\n",
    "\n",
    "# Split the data into training and testing sets\n",
    "from sklearn.model_selection import train_test_split\n",
    "x_train, x_test, y_train, y_test = train_test_split(x, y, test_size=0.3, random_state=0)\n",
    "\n",
    "\n",
    "# Create a LinearRegression object and fit the training data:\n",
    "lin_reg = LinearRegression()\n",
    "lin_reg.fit(x_train, y_train)\n",
    "\n",
    "\n",
    "#Predict the values using the testing set:\n",
    "y_pred = lin_reg.predict(x_test)\n",
    "\n",
    "\n",
    "# Evaluate the performance of the model:\n",
    "from sklearn.metrics import r2_score, mean_squared_error\n",
    "print('R-squared:', r2_score(y_test, y_pred))\n",
    "print('Mean squared error: ', mean_squared_error(y_test, y_pred))\n",
    "print('Root Mean Squared Error:', np.sqrt(mean_squared_error(y_test, y_pred)))\n",
    "print('Coefficients: ', lin_reg.coef_)\n",
    "print('Intercept: ', lin_reg.intercept_)\n",
    "print('Mean absolute error: ', mean_absolute_error(y_pred, y_pred))"
   ]
  },
  {
   "cell_type": "code",
   "execution_count": 149,
   "id": "e204801c-d249-4f65-848a-b7e9b18d49d3",
   "metadata": {},
   "outputs": [
    {
     "name": "stdout",
     "output_type": "stream",
     "text": [
      "[-2.14674313e-04  5.34043590e-01]\n"
     ]
    },
    {
     "data": {
      "image/png": "[encoded data removed]",
      "text/plain": [
       "<Figure size 432x288 with 1 Axes>"
      ]
     },
     "metadata": {
      "needs_background": "light"
     },
     "output_type": "display_data"
    }
   ],
   "source": [
    "x = np.array(df['dist'])\n",
    "y = np.array(df['m/n'])\n",
    "\n",
    "coeffs = np.polyfit(x, y, 1)\n",
    "print(coeffs)\n",
    "\n",
    "# create a function to calculate the predicted values of y based on the regression line\n",
    "regression_line = np.poly1d(coeffs)\n",
    "y_pred = regression_line(x)\n",
    "\n",
    "# plot the scatter plot of the data and the regression line\n",
    "plt.scatter(x, y, label='Data')\n",
    "plt.plot(x, y_pred, color='red', label='Regression Line')\n",
    "\n",
    "# add labels and legend to the plot\n",
    "plt.xlabel('X')\n",
    "plt.ylabel('Y')\n",
    "plt.legend()\n",
    "\n",
    "# show the plot\n",
    "plt.show()"
   ]
  },
  {
   "cell_type": "markdown",
   "id": "71c991b3-a570-4f03-b076-5745e09a205a",
   "metadata": {},
   "source": [
    "## example of using"
   ]
  },
  {
   "cell_type": "code",
   "execution_count": 156,
   "id": "0d1a3026-83d9-4051-9306-c5442ebd6281",
   "metadata": {},
   "outputs": [
    {
     "name": "stdout",
     "output_type": "stream",
     "text": [
      "[0.37934998]\n",
      "[0.47736265]\n",
      "Mean number of orders in chosen hexagon will increase by: 0.09801267049519818 if the distance decrease from 698 to 200 metres\n"
     ]
    }
   ],
   "source": [
    "#example of using hexagone\n",
    "x_test1 = np.array([700]).reshape((-1, 1))\n",
    "y_pred1 = lin_reg.predict(x_test1)\n",
    "print(y_pred1)\n",
    "\n",
    "x_test2 =np.array([200]).reshape((-1, 1))\n",
    "y_pred2 = lin_reg.predict(x_test2)\n",
    "print(y_pred2)\n",
    "\n",
    "print('Mean number of orders in chosen hexagon will increase by:', float(y_pred2) - float(y_pred1), 'if the distance decrease from 698 to 200 metres')"
   ]
  },
  {
   "cell_type": "code",
   "execution_count": null,
   "id": "7035e5d4-b36e-4afe-871d-bc4ba627aebf",
   "metadata": {},
   "outputs": [],
   "source": []
  }
 ],
 "metadata": {
  "kernelspec": {
   "display_name": "Python (myenv)",
   "language": "python",
   "name": "custom_env"
  },
  "language_info": {
   "codemirror_mode": {
    "name": "ipython",
    "version": 3
   },
   "file_extension": ".py",
   "mimetype": "text/x-python",
   "name": "python",
   "nbconvert_exporter": "python",
   "pygments_lexer": "ipython3",
   "version": "3.8.5"
  }
 },
 "nbformat": 4,
 "nbformat_minor": 5
}
